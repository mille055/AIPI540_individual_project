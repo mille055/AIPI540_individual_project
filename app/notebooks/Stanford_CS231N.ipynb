{
 "cells": [
  {
   "cell_type": "code",
   "execution_count": 2,
   "metadata": {},
   "outputs": [],
   "source": [
    "COLAB_FLAG = False   # whether running on colab or locally on computer"
   ]
  },
  {
   "cell_type": "code",
   "execution_count": 3,
   "metadata": {},
   "outputs": [],
   "source": [
    "# if COLAB_FLAG:\n",
    "#     %pip install pydicom==2.1.2\n",
    "#     %pip install monai seaborn sentence_transformers\n",
    "#     %git clone 'https://github.com/mille055/AIPI540_individual_project.git'\n",
    "\n",
    "    "
   ]
  },
  {
   "cell_type": "code",
   "execution_count": 17,
   "metadata": {},
   "outputs": [],
   "source": [
    "import torch\n",
    "import torch.nn as nn\n",
    "import torch.optim as optim\n",
    "import pandas as pd\n",
    "import numpy as np\n",
    "import torchvision\n",
    "import pydicom\n",
    "import pickle\n",
    "import glob\n",
    "import sklearn\n",
    "from sklearn.model_selection import train_test_split\n",
    "\n",
    "from sklearn.metrics import accuracy_score, confusion_matrix, classification_report, recall_score, ConfusionMatrixDisplay\n",
    "from sklearn.linear_model import LogisticRegression\n",
    "\n",
    "import seaborn as sns\n",
    "from datetime import datetime\n",
    "\n",
    "from sentence_transformers import SentenceTransformer\n",
    "\n",
    "from torch.optim import lr_scheduler\n",
    "import torch.backends.cudnn as cudnn\n",
    "\n",
    "import torchvision\n",
    "from torchvision import datasets, models, transforms\n",
    "from torch.utils.data import Dataset, DataLoader\n",
    "from torchvision.transforms import ToTensor\n",
    "import matplotlib.pyplot as plt\n",
    "import time\n",
    "import os\n",
    "import copy\n",
    "from pprint import pprint\n",
    "from fastai.basics import delegates\n",
    "from fastcore.parallel import parallel\n",
    "from fastcore.utils import gt\n",
    "from fastcore.foundation import L\n",
    "\n",
    "from pydicom.dataset import Dataset as DcmDataset\n",
    "from pydicom.tag import BaseTag as DcmTag\n",
    "from pydicom.multival import MultiValue as DcmMultiValue\n",
    "import sys\n",
    "import importlib\n",
    "import warnings\n",
    "warnings.filterwarnings(\"ignore\")"
   ]
  },
  {
   "cell_type": "code",
   "execution_count": null,
   "metadata": {},
   "outputs": [
    {
     "ename": "",
     "evalue": "",
     "output_type": "error",
     "traceback": [
      "\u001b[1;31mCanceled future for execute_request message before replies were done"
     ]
    },
    {
     "ename": "",
     "evalue": "",
     "output_type": "error",
     "traceback": [
      "\u001b[1;31mThe Kernel crashed while executing code in the the current cell or a previous cell. Please review the code in the cell(s) to identify a possible cause of the failure. Click <a href='https://aka.ms/vscodeJupyterKernelCrash'>here</a> for more info. View Jupyter <a href='command:jupyter.viewOutput'>log</a> for further details."
     ]
    }
   ],
   "source": [
    "#local imports\n",
    "if COLAB_FLAG:\n",
    "    sys.path.append('/content/AIPI540_individual_project/scripts/')\n",
    "    train_datafile = '/content/AIPI540_individual_project/data/trainfiles.csv'\n",
    "    val_datafile = '/content/AIPI540_individual_project/data/valfiles.csv'\n",
    "    test_datafile = '/content/AIPI540_individual_project/data/testfiles.csv'\n",
    "\n",
    "else: # running locally\n",
    "    #sys.path.append('/Users/cmm/Documents/GitHub/new/AIPI540_individual_project/scripts/')\n",
    "    sys.path.append('/workspaces/AIPI540_individual_project/app/scripts/')\n",
    "    train_datafile = '../data/trainfiles.csv'\n",
    "    val_datafile = '../data/valfiles.csv'\n",
    "    test_datafile = '../data/testfiles.csv'\n",
    "\n",
    "\n",
    "### local imports ###\n",
    "from config import file_dict, feats, feats_to_keep, column_lists, RF_parameters, classes, model_paths\n",
    "from config import abd_label_dict, val_list, train_val_split_percent, random_seed, data_transforms\n",
    "from config import sentence_encoder, series_description_column\n",
    "from utils import *\n",
    "\n",
    "from NLP.NLP_training import train_NLP_model\n",
    "from NLP.NLP_inference import get_NLP_inference\n",
    "from cnn.cnn_dataset import ImgDataset\n",
    "from cnn.cnn_inference import image_to_tensor, pixel_inference, test_pix_model, load_pixel_model, visualize_results\n",
    "from cnn.cnn_model import *\n",
    "from cnn.cnn_training import *\n",
    "from cnn.cnn_data_loaders import get_data_loaders\n",
    "from metadata.meta_inference import meta_inference, calc_feature_importances\n",
    "from metadata.meta_training import train_fit_parameter_trial, train_meta_model, evaluate_meta_model\n",
    "from fusionmodel.fus_model import FusionModel\n",
    "from fusionmodel.fus_inference import get_fusion_inference, get_fusion_inference_from_file\n",
    "from fusionmodel.fus_training import train_fusion_model, CustomDataset\n",
    "from model_container import ModelContainer\n",
    "from process_tree import Processor\n"
   ]
  },
  {
   "cell_type": "code",
   "execution_count": null,
   "metadata": {},
   "outputs": [],
   "source": [
    "\n",
    "\n",
    "train_df, val_df, test_df = create_datasets(train_datafile, val_datafile, test_datafile)\n",
    "\n"
   ]
  },
  {
   "cell_type": "code",
   "execution_count": null,
   "metadata": {},
   "outputs": [],
   "source": [
    "# prepares the features (preprocess normalizes/binarizes/ordinalizes the columns and limits to the feature set) and gets the labels\n",
    "X_train_meta, scaler = preprocess(train_df, need_fit_scaler=True, save_scaler=True)\n",
    "\n",
    "X_val_meta, _ = preprocess(val_df, scaler)\n",
    "X_test_meta, _ = preprocess(test_df, scaler)\n",
    "y_train = train_df.label\n",
    "y_val = val_df.label\n",
    "y_test = test_df.label"
   ]
  },
  {
   "cell_type": "code",
   "execution_count": null,
   "metadata": {},
   "outputs": [],
   "source": []
  }
 ],
 "metadata": {
  "kernelspec": {
   "display_name": "Python 3",
   "language": "python",
   "name": "python3"
  },
  "language_info": {
   "codemirror_mode": {
    "name": "ipython",
    "version": 3
   },
   "file_extension": ".py",
   "mimetype": "text/x-python",
   "name": "python",
   "nbconvert_exporter": "python",
   "pygments_lexer": "ipython3",
   "version": "3.10.4"
  },
  "orig_nbformat": 4
 },
 "nbformat": 4,
 "nbformat_minor": 2
}
