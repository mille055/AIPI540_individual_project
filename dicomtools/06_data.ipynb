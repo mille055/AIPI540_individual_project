{
 "cells": [
  {
   "cell_type": "code",
   "execution_count": null,
   "metadata": {},
   "outputs": [],
   "source": [
    "# default_exp data"
   ]
  },
  {
   "cell_type": "markdown",
   "metadata": {},
   "source": [
    "# data\n",
    "\n",
    "> Core utilities for extracting metadata from DICOM files and storing in MongoDB. Utilizes the `pydicom`, `fastcore` and `pymongo` packages. Some ideas borrowed from [fastai.medical.image](https://github.com/fastai/fastai/blob/master/fastai/medical/imaging.py)."
   ]
  },
  {
   "cell_type": "code",
   "execution_count": null,
   "metadata": {},
   "outputs": [],
   "source": [
    "#hide\n",
    "from nbdev.showdoc import *"
   ]
  },
  {
   "cell_type": "code",
   "execution_count": null,
   "metadata": {},
   "outputs": [],
   "source": [
    "#export\n",
    "from dicomtools.imports import *\n",
    "\n",
    "import pydicom, pymongo\n",
    "from pydicom.dataset import Dataset as DcmDataset\n",
    "from pydicom.sequence import Sequence as DcmSequence\n",
    "from pydicom.multival import MultiValue as DcmMultiValue"
   ]
  },
  {
   "cell_type": "code",
   "execution_count": null,
   "metadata": {},
   "outputs": [],
   "source": [
    "#export\n",
    "def send_dcm2mongo(path, db_name: str, coll_name: str, first_dcm=False, ip_addr=\"127.0.0.1:27017\", **kwargs):\n",
    "    \"Walk `path` to get DICOM file names, then read files into a `pandas.DataFrame`. If `first_dcm=True`, only read first file from each folder.\"\n",
    "    fns = L()\n",
    "    print(\"Finding DICOM files. This may take a few minutes.\")\n",
    "    if first_dcm:\n",
    "        for r, d, f in os.walk(path):\n",
    "            if f:\n",
    "                if Path(f[0]).suffix.lower() == '.dcm':\n",
    "                    fns.append(Path(f'{r}/{f[0]}'))\n",
    "    else:\n",
    "        fns = L(glob.glob(f'{path}/**/*.dcm', recursive=True))\n",
    "        fns = fns.map(lambda x: Path(x))\n",
    "    print(\"Reading DICOMs. This may take a few minutes, depending on the number of files to read...\")\n",
    "    docs = dcm2mongo(fns)\n",
    "    client = pymongo.MongoClient(ip_addr)\n",
    "    db = client[db_name]\n",
    "    collection = db[coll_name]\n",
    "    try:\n",
    "        result = collection.insert_many(docs)\n",
    "    except:\n",
    "        print('Writing `docs` to `collection` failed. `docs` will be returned from function instead of `result`.')\n",
    "        return docs\n",
    "    return result"
   ]
  },
  {
   "cell_type": "code",
   "execution_count": null,
   "metadata": {},
   "outputs": [],
   "source": [
    "#export\n",
    "@patch\n",
    "def dcmread(fn: Path, no_pixels=True, force=True):\n",
    "    \"Reads a DICOM file and returns the corresponding pydicom.Dataset\"\n",
    "    try:\n",
    "        ds = pydicom.dcmread(str(fn), stop_before_pixels=no_pixels, force=force)\n",
    "        return ds\n",
    "    except:\n",
    "        print(f'{fn} is not a valid DICOM file.')\n",
    "        return {\"fname\": fn}"
   ]
  },
  {
   "cell_type": "code",
   "execution_count": null,
   "metadata": {},
   "outputs": [],
   "source": [
    "#export\n",
    "def _cast_dcm_special(x):\n",
    "    if isinstance(x, DcmMultiValue): return [_cast_dcm_special(o) for o in x]\n",
    "    cls = type(x)\n",
    "    if not cls.__module__.startswith('pydicom'): return x\n",
    "    if cls.__base__ == object: return str(x)\n",
    "    return cls.__base__(x)"
   ]
  },
  {
   "cell_type": "code",
   "execution_count": null,
   "metadata": {},
   "outputs": [],
   "source": [
    "#export\n",
    "@patch\n",
    "def as_dict_mongo(self: DcmDataset, incl_fname=True):\n",
    "    vals = [self[o] for o in self.keys() if 'AttributesSequence' not in self[o].keyword]\n",
    "    items = [(v.keyword, v.value.name) if v.keyword == 'SOPClassUID' else (v.keyword, v.value) for v in vals]\n",
    "    res = dict(items)\n",
    "    if incl_fname: res['fname'] = self.filename\n",
    "    for k, v in items:\n",
    "        if isinstance(v, DcmSequence): res[k] = v[0].as_dict_mongo(incl_fname=False)\n",
    "    for k in res: res[k] = _cast_dcm_special(res[k])\n",
    "    return res"
   ]
  },
  {
   "cell_type": "code",
   "execution_count": null,
   "metadata": {},
   "outputs": [],
   "source": [
    "#export\n",
    "def _dcm2dict_mongo(fn, excl_private=False, **kwargs):\n",
    "    ds = fn.dcmread()\n",
    "    if not isinstance(ds, DcmDataset): return ds\n",
    "    if excl_private: ds.remove_private_tags()\n",
    "    return ds.as_dict_mongo(**kwargs)"
   ]
  },
  {
   "cell_type": "code",
   "execution_count": null,
   "metadata": {},
   "outputs": [],
   "source": [
    "#export\n",
    "@delegates(parallel)\n",
    "def dcm2mongo(fns, n_workers=0, **kwargs):\n",
    "    return list(parallel(_dcm2dict_mongo, fns, n_workers=n_workers, **kwargs))"
   ]
  },
  {
   "cell_type": "code",
   "execution_count": null,
   "metadata": {},
   "outputs": [],
   "source": []
  }
 ],
 "metadata": {
  "kernelspec": {
   "display_name": "Python 3",
   "language": "python",
   "name": "python3"
  },
  "language_info": {
   "codemirror_mode": {
    "name": "ipython",
    "version": 3
   },
   "file_extension": ".py",
   "mimetype": "text/x-python",
   "name": "python",
   "nbconvert_exporter": "python",
   "pygments_lexer": "ipython3",
   "version": "3.8.8"
  }
 },
 "nbformat": 4,
 "nbformat_minor": 4
}
