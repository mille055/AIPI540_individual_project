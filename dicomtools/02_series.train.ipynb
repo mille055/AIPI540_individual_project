{
 "cells": [
  {
   "cell_type": "code",
   "execution_count": 1,
   "metadata": {},
   "outputs": [],
   "source": [
    "# default_exp series.train"
   ]
  },
  {
   "cell_type": "markdown",
   "metadata": {},
   "source": [
    "# series.train\n",
    "> Methods for training a `RandomForestClassifier` from `scikit-learn` to classify MRI series types."
   ]
  },
  {
   "cell_type": "code",
   "execution_count": 3,
   "metadata": {},
   "outputs": [],
   "source": [
    "#export\n",
    "from dicomtools.basics import *\n",
    "from sklearn.ensemble import RandomForestClassifier\n",
    "from sklearn.model_selection import KFold, GroupKFold, GroupShuffleSplit, cross_val_score, RandomizedSearchCV, GridSearchCV\n",
    "from pprint import pprint\n",
    "\n",
    "np.random.seed(42)"
   ]
  },
  {
   "cell_type": "code",
   "execution_count": 3,
   "metadata": {},
   "outputs": [],
   "source": [
    "#export\n",
    "def train_setup(df, preproc=True):\n",
    "    \"Extract labels for training data and return 'unknown' as test set\"\n",
    "    if preproc:\n",
    "        df1 = preprocess(df)\n",
    "        labels = extract_labels(df1)\n",
    "        df1 = df1.join(labels[['plane', 'contrast', 'seq_label']])\n",
    "    else:\n",
    "        df1 = df.copy()\n",
    "    filt = df1['seq_label'] == 'unknown'\n",
    "    train = df1[~filt].copy().reset_index(drop=True)\n",
    "    test = df1[filt].copy().reset_index(drop=True)\n",
    "    y, y_names = pd.factorize(train['seq_label'])\n",
    "    return train, test, y, y_names\n"
   ]
  },
  {
   "cell_type": "code",
   "execution_count": 10,
   "metadata": {},
   "outputs": [],
   "source": [
    "#export\n",
    "def train_fit(train, y, features, fname='model-run.skl'):\n",
    "    \"Train a Random Forest classifier on `train[features]` and `y`, then save to `fname` and return.\"\n",
    "    clf = RandomForestClassifier(n_jobs=2, random_state=0)\n",
    "    clf.fit(train[features], y)\n",
    "\n",
    "    dump(clf, fname)\n",
    "    return clf\n"
   ]
  },
  {
   "cell_type": "code",
   "execution_count": 1,
   "metadata": {},
   "outputs": [],
   "source": [
    "#export\n",
    "def train_setup_abdomen(df, cols=['patientID','exam','series'], preproc=False, need_labels=False):\n",
    "\n",
    "    if preproc:\n",
    "        df1=preprocess(df)\n",
    "        \n",
    "    else:\n",
    "        df1=df.copy()\n",
    "    \n",
    "    if need_labels:\n",
    "\n",
    "        labels = extract_labels(df1)\n",
    "        df1 = df1.merge(labels, on=cols)\n",
    " \n",
    "    length = df1.shape[0]\n",
    "\n",
    "    #gkf = GroupKFold(n_splits=5)\n",
    "    #for train_set, val_set in gkf.split(df1, groups=df1['patientID']):\n",
    "    #    train, val = df1.loc[train_set], df1.loc[val_set]\n",
    "   \n",
    "    train_set, val_set = next(GroupShuffleSplit(test_size=.20, n_splits=1, random_state = 42).split(df1, groups=df1['patientID']))\n",
    "\n",
    "    train = df1.iloc[train_set]\n",
    "    val = df1.iloc[val_set]\n",
    "    y, y_names = train['label_code'],train['GT label']\n",
    " \n",
    "    return train, val, y, y_names\n",
    "\n",
    "\n"
   ]
  },
  {
   "cell_type": "code",
   "execution_count": null,
   "metadata": {},
   "outputs": [],
   "source": []
  }
 ],
 "metadata": {
  "kernelspec": {
   "display_name": "Python 3",
   "language": "python",
   "name": "python3"
  },
  "language_info": {
   "codemirror_mode": {
    "name": "ipython",
    "version": 3
   },
   "file_extension": ".py",
   "mimetype": "text/x-python",
   "name": "python",
   "nbconvert_exporter": "python",
   "pygments_lexer": "ipython3",
   "version": "3.8.8"
  }
 },
 "nbformat": 4,
 "nbformat_minor": 4
}
