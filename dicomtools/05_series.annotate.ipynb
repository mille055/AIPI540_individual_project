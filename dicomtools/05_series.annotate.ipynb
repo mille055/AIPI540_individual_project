{
 "cells": [
  {
   "cell_type": "code",
   "execution_count": null,
   "metadata": {},
   "outputs": [],
   "source": [
    "# default_exp series.annotate"
   ]
  },
  {
   "cell_type": "markdown",
   "metadata": {},
   "source": [
    "# series.annotate\n",
    "> A GUI created from `ipywidgets` for annotating MRI series types."
   ]
  },
  {
   "cell_type": "code",
   "execution_count": null,
   "metadata": {},
   "outputs": [],
   "source": [
    "#hide\n",
    "from nbdev.showdoc import *"
   ]
  },
  {
   "cell_type": "code",
   "execution_count": null,
   "metadata": {},
   "outputs": [],
   "source": [
    "#export\n",
    "from dicomtools.basics import *\n",
    "from dicomtools.series.preproc import *\n",
    "\n",
    "from ipywidgets import Button, Layout, HBox, VBox, HTML, Dropdown, Output\n",
    "from IPython.display import display\n",
    "import asyncio\n",
    "from time import sleep"
   ]
  },
  {
   "cell_type": "code",
   "execution_count": null,
   "metadata": {},
   "outputs": [],
   "source": [
    "#export\n",
    "_labels = [\n",
    "    't1',\n",
    "    't2',\n",
    "    'flair',\n",
    "    'spgr',\n",
    "    'swi',\n",
    "    'dwi',\n",
    "    'mra',\n",
    "    'loc',\n",
    "    'other',\n",
    "    'unknown'\n",
    "]"
   ]
  },
  {
   "cell_type": "code",
   "execution_count": null,
   "metadata": {},
   "outputs": [],
   "source": [
    "#export\n",
    "def _layout_button(description, button_style):\n",
    "    return Button(description=description, button_style=button_style, layout=Layout(height='auto', width='auto'))\n",
    "\n",
    "_box_layout = Layout(display='flex',\n",
    "                    flex_flow='column',\n",
    "                    align_items='stretch',\n",
    "                    width='50%')\n"
   ]
  },
  {
   "cell_type": "code",
   "execution_count": null,
   "metadata": {},
   "outputs": [],
   "source": [
    "#export\n",
    "def _wait_for_change(widget1, widget2):\n",
    "    future = asyncio.Future()\n",
    "    def getvalue(change):\n",
    "        future.set_result(change.description)\n",
    "        widget1.on_click(getvalue, remove=True)\n",
    "        widget2.on_click(getvalue, remove=True)\n",
    "    widget1.on_click(getvalue)\n",
    "    widget2.on_click(getvalue)\n",
    "    return future\n"
   ]
  },
  {
   "cell_type": "code",
   "execution_count": null,
   "metadata": {},
   "outputs": [],
   "source": [
    "#export\n",
    "class Annotator():\n",
    "    \"Simple GUI for annotating series from `SeriesDescription` with specified list of `labels`\"\n",
    "    def __init__(self, df, labels=_labels):\n",
    "        self.data = df\n",
    "        if 'annotated' not in self.data.columns:\n",
    "            self.data['annotated'] = 0\n",
    "        self.labels = labels\n",
    "        self.accept, self.stop, self.ser_desc, self.label, self.out, self.gui = self._setup()\n",
    "        \n",
    "    def _setup(self):\n",
    "        accept = _layout_button('Accept', 'success')\n",
    "        stop = _layout_button('Stop', 'danger')\n",
    "        ser_desc = HTML(description='<strong>Description:</strong>', layout=Layout(width='auto'))\n",
    "        label = Dropdown(description='<strong>Label:</strong>', options=self.labels, layout=Layout(width='auto'))\n",
    "        out = Output()\n",
    "        top_box = HBox(children=[ser_desc, label], layout=_box_layout)\n",
    "        bottom_box = HBox(children=[accept, stop], layout=_box_layout)\n",
    "        gui = VBox(children=[top_box, bottom_box, out], layout=_box_layout)\n",
    "        return accept, stop, ser_desc, label, out, gui\n",
    "    \n",
    "    async def _f(self, col='SeriesDescription', label_col='seq_label'):\n",
    "        if label_col not in self.data.columns:\n",
    "            self.data[label_col] = np.nan\n",
    "        grouped = self.data.groupby(col)\n",
    "        for name, group in grouped:\n",
    "            if any(group['annotated'] == 1):\n",
    "                continue\n",
    "            self.ser_desc.value = name\n",
    "            self.label.value = group[label_col].unique()[0]\n",
    "            x = await _wait_for_change(self.accept, self.stop)\n",
    "            self.out.clear_output()\n",
    "            if x == 'Accept':\n",
    "                t = group[label_col].transform(lambda x: self.label.value)\n",
    "                self.data.loc[t.index, label_col] = t.values\n",
    "                self.data.loc[t.index, 'annotated'] = 1\n",
    "            else:\n",
    "                with self.out:\n",
    "                    print('Stopping here.')\n",
    "                break\n",
    "            with self.out:\n",
    "                print(f'\"{name}\" labeled with \"{self.label.value}\"')\n",
    "        self.out.clear_output(wait=True)\n",
    "        with self.out:\n",
    "            sleep(2)\n",
    "            print('Done!')\n",
    "            print(f'{self.data.shape[0] - self.data.annotated.sum()} series remaining.')\n",
    "        \n",
    "    def annotate(self):\n",
    "        asyncio.create_task(self._f())\n",
    "        display(self.gui)\n",
    "        \n",
    "    def save_data(self, fname, ftype='pickle'): \n",
    "        if ftype == 'csv':\n",
    "            self.data.to_csv(fname, index=False)\n",
    "        elif ftype == 'pickle':\n",
    "            self.data.to_pickle(fname)\n",
    "        else:\n",
    "            raise NameError('File type not supported, please specify \"csv\" or \"pickle\".')\n",
    "            "
   ]
  },
  {
   "cell_type": "code",
   "execution_count": null,
   "metadata": {},
   "outputs": [
    {
     "data": {
      "text/markdown": [
       "<h2 id=\"Annotator\" class=\"doc_header\"><code>class</code> <code>Annotator</code><a href=\"\" class=\"source_link\" style=\"float:right\">[source]</a></h2>\n",
       "\n",
       "> <code>Annotator</code>(**`df`**, **`labels`**=*`['t1', 't2', 'flair', 'spgr', 'swi', 'dwi', 'mra', 'loc', 'other', 'unknown']`*)\n",
       "\n",
       "Simple GUI for annotating series from `SeriesDescription` with specified list of `labels`"
      ],
      "text/plain": [
       "<IPython.core.display.Markdown object>"
      ]
     },
     "metadata": {},
     "output_type": "display_data"
    }
   ],
   "source": [
    "show_doc(Annotator)"
   ]
  },
  {
   "cell_type": "code",
   "execution_count": null,
   "metadata": {},
   "outputs": [
    {
     "data": {
      "text/html": [
       "<div>\n",
       "<style scoped>\n",
       "    .dataframe tbody tr th:only-of-type {\n",
       "        vertical-align: middle;\n",
       "    }\n",
       "\n",
       "    .dataframe tbody tr th {\n",
       "        vertical-align: top;\n",
       "    }\n",
       "\n",
       "    .dataframe thead th {\n",
       "        text-align: right;\n",
       "    }\n",
       "</style>\n",
       "<table border=\"1\" class=\"dataframe\">\n",
       "  <thead>\n",
       "    <tr style=\"text-align: right;\">\n",
       "      <th></th>\n",
       "      <th>SeriesDescription</th>\n",
       "      <th>seq_label</th>\n",
       "    </tr>\n",
       "  </thead>\n",
       "  <tbody>\n",
       "    <tr>\n",
       "      <th>0</th>\n",
       "      <td>ax t1 +c</td>\n",
       "      <td>t1</td>\n",
       "    </tr>\n",
       "    <tr>\n",
       "      <th>1</th>\n",
       "      <td>sag t2</td>\n",
       "      <td>unknown</td>\n",
       "    </tr>\n",
       "    <tr>\n",
       "      <th>2</th>\n",
       "      <td>sag t2</td>\n",
       "      <td>unknown</td>\n",
       "    </tr>\n",
       "    <tr>\n",
       "      <th>3</th>\n",
       "      <td>ax t1</td>\n",
       "      <td>t1</td>\n",
       "    </tr>\n",
       "  </tbody>\n",
       "</table>\n",
       "</div>"
      ],
      "text/plain": [
       "  SeriesDescription seq_label\n",
       "0          ax t1 +c        t1\n",
       "1            sag t2   unknown\n",
       "2            sag t2   unknown\n",
       "3             ax t1        t1"
      ]
     },
     "execution_count": null,
     "metadata": {},
     "output_type": "execute_result"
    }
   ],
   "source": [
    "sd = ['ax t1 +c', 'sag t2', 'sag t2', 'ax t1']\n",
    "lab = ['t1', 'unknown', 'unknown', 't1']\n",
    "df = pd.DataFrame({'SeriesDescription': sd, 'seq_label': lab})\n",
    "df"
   ]
  },
  {
   "cell_type": "code",
   "execution_count": null,
   "metadata": {},
   "outputs": [
    {
     "data": {
      "application/vnd.jupyter.widget-view+json": {
       "model_id": "c84cb5711adb44e8a22b87dd16ffee5c",
       "version_major": 2,
       "version_minor": 0
      },
      "text/plain": [
       "VBox(children=(HBox(children=(HTML(value='', description='<strong>Description:</strong>', layout=Layout(width=…"
      ]
     },
     "metadata": {},
     "output_type": "display_data"
    }
   ],
   "source": [
    "annotator = Annotator(df)\n",
    "annotator.annotate()"
   ]
  },
  {
   "cell_type": "code",
   "execution_count": null,
   "metadata": {},
   "outputs": [
    {
     "data": {
      "text/html": [
       "<div>\n",
       "<style scoped>\n",
       "    .dataframe tbody tr th:only-of-type {\n",
       "        vertical-align: middle;\n",
       "    }\n",
       "\n",
       "    .dataframe tbody tr th {\n",
       "        vertical-align: top;\n",
       "    }\n",
       "\n",
       "    .dataframe thead th {\n",
       "        text-align: right;\n",
       "    }\n",
       "</style>\n",
       "<table border=\"1\" class=\"dataframe\">\n",
       "  <thead>\n",
       "    <tr style=\"text-align: right;\">\n",
       "      <th></th>\n",
       "      <th>SeriesDescription</th>\n",
       "      <th>seq_label</th>\n",
       "      <th>annotated</th>\n",
       "    </tr>\n",
       "  </thead>\n",
       "  <tbody>\n",
       "    <tr>\n",
       "      <th>0</th>\n",
       "      <td>ax t1 +c</td>\n",
       "      <td>t1</td>\n",
       "      <td>0</td>\n",
       "    </tr>\n",
       "    <tr>\n",
       "      <th>1</th>\n",
       "      <td>sag t2</td>\n",
       "      <td>unknown</td>\n",
       "      <td>0</td>\n",
       "    </tr>\n",
       "    <tr>\n",
       "      <th>2</th>\n",
       "      <td>sag t2</td>\n",
       "      <td>unknown</td>\n",
       "      <td>0</td>\n",
       "    </tr>\n",
       "    <tr>\n",
       "      <th>3</th>\n",
       "      <td>ax t1</td>\n",
       "      <td>t1</td>\n",
       "      <td>0</td>\n",
       "    </tr>\n",
       "  </tbody>\n",
       "</table>\n",
       "</div>"
      ],
      "text/plain": [
       "  SeriesDescription seq_label  annotated\n",
       "0          ax t1 +c        t1          0\n",
       "1            sag t2   unknown          0\n",
       "2            sag t2   unknown          0\n",
       "3             ax t1        t1          0"
      ]
     },
     "execution_count": null,
     "metadata": {},
     "output_type": "execute_result"
    }
   ],
   "source": [
    "annotator.data"
   ]
  },
  {
   "cell_type": "code",
   "execution_count": null,
   "metadata": {},
   "outputs": [],
   "source": []
  }
 ],
 "metadata": {
  "kernelspec": {
   "display_name": "Python 3",
   "language": "python",
   "name": "python3"
  },
  "language_info": {
   "codemirror_mode": {
    "name": "ipython",
    "version": 3
   },
   "file_extension": ".py",
   "mimetype": "text/x-python",
   "name": "python",
   "nbconvert_exporter": "python",
   "pygments_lexer": "ipython3",
   "version": "3.8.8"
  }
 },
 "nbformat": 4,
 "nbformat_minor": 4
}
