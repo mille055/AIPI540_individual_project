{
  "nbformat": 4,
  "nbformat_minor": 0,
  "metadata": {
    "colab": {
      "provenance": [],
      "authorship_tag": "ABX9TyO7PfRfhbOoH9/UUt/rC1D+",
      "include_colab_link": true
    },
    "kernelspec": {
      "name": "python3",
      "display_name": "Python 3"
    },
    "language_info": {
      "name": "python"
    }
  },
  "cells": [
    {
      "cell_type": "markdown",
      "metadata": {
        "id": "view-in-github",
        "colab_type": "text"
      },
      "source": [
        "<a href=\"https://colab.research.google.com/github/mille055/AIPI540_individual_project/blob/main/notebooks/AIPI540_IP_fusion_classifier.ipynb\" target=\"_parent\"><img src=\"https://colab.research.google.com/assets/colab-badge.svg\" alt=\"Open In Colab\"/></a>"
      ]
    },
    {
      "cell_type": "markdown",
      "source": [],
      "metadata": {
        "id": "IhIsWYAy6n8O"
      }
    },
    {
      "cell_type": "code",
      "source": [
        "\n",
        "!git clone 'https://github.com/mille055/AIPI540_individual_project.git'"
      ],
      "metadata": {
        "colab": {
          "base_uri": "https://localhost:8080/"
        },
        "id": "ZuN4moLn6pol",
        "outputId": "7a46725f-4634-4bdc-c953-9b157da6d1f4"
      },
      "execution_count": 1,
      "outputs": [
        {
          "output_type": "stream",
          "name": "stdout",
          "text": [
            "Cloning into 'AIPI540_individual_project'...\n",
            "remote: Enumerating objects: 305, done.\u001b[K\n",
            "remote: Counting objects: 100% (14/14), done.\u001b[K\n",
            "remote: Compressing objects: 100% (10/10), done.\u001b[K\n",
            "remote: Total 305 (delta 4), reused 7 (delta 4), pack-reused 291\u001b[K\n",
            "Receiving objects: 100% (305/305), 91.87 MiB | 17.71 MiB/s, done.\n",
            "Resolving deltas: 100% (140/140), done.\n",
            "Updating files: 100% (35/35), done.\n"
          ]
        }
      ]
    },
    {
      "cell_type": "code",
      "source": [
        "!pip install -r https://raw.githubusercontent.com/mille055/AIPI540_individual_project/main/requirements.txt"
      ],
      "metadata": {
        "colab": {
          "base_uri": "https://localhost:8080/"
        },
        "id": "Qc0ZmPHbAW0I",
        "outputId": "8f2f5bb2-3c8d-4368-8f19-ceb7bab4e43b"
      },
      "execution_count": 2,
      "outputs": [
        {
          "output_type": "stream",
          "name": "stdout",
          "text": [
            "Looking in indexes: https://pypi.org/simple, https://us-python.pkg.dev/colab-wheels/public/simple/\n",
            "Collecting pydicom\n",
            "  Downloading pydicom-2.3.1-py3-none-any.whl (2.0 MB)\n",
            "\u001b[2K     \u001b[90m━━━━━━━━━━━━━━━━━━━━━━━━━━━━━━━━━━━━━━━━\u001b[0m \u001b[32m2.0/2.0 MB\u001b[0m \u001b[31m46.6 MB/s\u001b[0m eta \u001b[36m0:00:00\u001b[0m\n",
            "\u001b[?25hCollecting monai\n",
            "  Downloading monai-1.1.0-202212191849-py3-none-any.whl (1.2 MB)\n",
            "\u001b[2K     \u001b[90m━━━━━━━━━━━━━━━━━━━━━━━━━━━━━━━━━━━━━━━━\u001b[0m \u001b[32m1.2/1.2 MB\u001b[0m \u001b[31m63.3 MB/s\u001b[0m eta \u001b[36m0:00:00\u001b[0m\n",
            "\u001b[?25hRequirement already satisfied: spacy in /usr/local/lib/python3.9/dist-packages (from -r https://raw.githubusercontent.com/mille055/AIPI540_individual_project/main/requirements.txt (line 3)) (3.5.1)\n",
            "Requirement already satisfied: nltk in /usr/local/lib/python3.9/dist-packages (from -r https://raw.githubusercontent.com/mille055/AIPI540_individual_project/main/requirements.txt (line 4)) (3.8.1)\n",
            "Collecting sentence_transformers\n",
            "  Downloading sentence-transformers-2.2.2.tar.gz (85 kB)\n",
            "\u001b[2K     \u001b[90m━━━━━━━━━━━━━━━━━━━━━━━━━━━━━━━━━━━━━━━━\u001b[0m \u001b[32m86.0/86.0 KB\u001b[0m \u001b[31m12.3 MB/s\u001b[0m eta \u001b[36m0:00:00\u001b[0m\n",
            "\u001b[?25h  Preparing metadata (setup.py) ... \u001b[?25l\u001b[?25hdone\n",
            "Requirement already satisfied: torch in /usr/local/lib/python3.9/dist-packages (from -r https://raw.githubusercontent.com/mille055/AIPI540_individual_project/main/requirements.txt (line 6)) (2.0.0+cu118)\n",
            "Requirement already satisfied: torchvision in /usr/local/lib/python3.9/dist-packages (from -r https://raw.githubusercontent.com/mille055/AIPI540_individual_project/main/requirements.txt (line 7)) (0.15.1+cu118)\n",
            "Requirement already satisfied: numpy>=1.17 in /usr/local/lib/python3.9/dist-packages (from monai->-r https://raw.githubusercontent.com/mille055/AIPI540_individual_project/main/requirements.txt (line 2)) (1.22.4)\n",
            "Requirement already satisfied: srsly<3.0.0,>=2.4.3 in /usr/local/lib/python3.9/dist-packages (from spacy->-r https://raw.githubusercontent.com/mille055/AIPI540_individual_project/main/requirements.txt (line 3)) (2.4.6)\n",
            "Requirement already satisfied: thinc<8.2.0,>=8.1.8 in /usr/local/lib/python3.9/dist-packages (from spacy->-r https://raw.githubusercontent.com/mille055/AIPI540_individual_project/main/requirements.txt (line 3)) (8.1.9)\n",
            "Requirement already satisfied: typer<0.8.0,>=0.3.0 in /usr/local/lib/python3.9/dist-packages (from spacy->-r https://raw.githubusercontent.com/mille055/AIPI540_individual_project/main/requirements.txt (line 3)) (0.7.0)\n",
            "Requirement already satisfied: spacy-loggers<2.0.0,>=1.0.0 in /usr/local/lib/python3.9/dist-packages (from spacy->-r https://raw.githubusercontent.com/mille055/AIPI540_individual_project/main/requirements.txt (line 3)) (1.0.4)\n",
            "Requirement already satisfied: smart-open<7.0.0,>=5.2.1 in /usr/local/lib/python3.9/dist-packages (from spacy->-r https://raw.githubusercontent.com/mille055/AIPI540_individual_project/main/requirements.txt (line 3)) (6.3.0)\n",
            "Requirement already satisfied: wasabi<1.2.0,>=0.9.1 in /usr/local/lib/python3.9/dist-packages (from spacy->-r https://raw.githubusercontent.com/mille055/AIPI540_individual_project/main/requirements.txt (line 3)) (1.1.1)\n",
            "Requirement already satisfied: setuptools in /usr/local/lib/python3.9/dist-packages (from spacy->-r https://raw.githubusercontent.com/mille055/AIPI540_individual_project/main/requirements.txt (line 3)) (67.6.1)\n",
            "Requirement already satisfied: packaging>=20.0 in /usr/local/lib/python3.9/dist-packages (from spacy->-r https://raw.githubusercontent.com/mille055/AIPI540_individual_project/main/requirements.txt (line 3)) (23.0)\n",
            "Requirement already satisfied: tqdm<5.0.0,>=4.38.0 in /usr/local/lib/python3.9/dist-packages (from spacy->-r https://raw.githubusercontent.com/mille055/AIPI540_individual_project/main/requirements.txt (line 3)) (4.65.0)\n",
            "Requirement already satisfied: langcodes<4.0.0,>=3.2.0 in /usr/local/lib/python3.9/dist-packages (from spacy->-r https://raw.githubusercontent.com/mille055/AIPI540_individual_project/main/requirements.txt (line 3)) (3.3.0)\n",
            "Requirement already satisfied: requests<3.0.0,>=2.13.0 in /usr/local/lib/python3.9/dist-packages (from spacy->-r https://raw.githubusercontent.com/mille055/AIPI540_individual_project/main/requirements.txt (line 3)) (2.27.1)\n",
            "Requirement already satisfied: spacy-legacy<3.1.0,>=3.0.11 in /usr/local/lib/python3.9/dist-packages (from spacy->-r https://raw.githubusercontent.com/mille055/AIPI540_individual_project/main/requirements.txt (line 3)) (3.0.12)\n",
            "Requirement already satisfied: murmurhash<1.1.0,>=0.28.0 in /usr/local/lib/python3.9/dist-packages (from spacy->-r https://raw.githubusercontent.com/mille055/AIPI540_individual_project/main/requirements.txt (line 3)) (1.0.9)\n",
            "Requirement already satisfied: catalogue<2.1.0,>=2.0.6 in /usr/local/lib/python3.9/dist-packages (from spacy->-r https://raw.githubusercontent.com/mille055/AIPI540_individual_project/main/requirements.txt (line 3)) (2.0.8)\n",
            "Requirement already satisfied: cymem<2.1.0,>=2.0.2 in /usr/local/lib/python3.9/dist-packages (from spacy->-r https://raw.githubusercontent.com/mille055/AIPI540_individual_project/main/requirements.txt (line 3)) (2.0.7)\n",
            "Requirement already satisfied: pydantic!=1.8,!=1.8.1,<1.11.0,>=1.7.4 in /usr/local/lib/python3.9/dist-packages (from spacy->-r https://raw.githubusercontent.com/mille055/AIPI540_individual_project/main/requirements.txt (line 3)) (1.10.7)\n",
            "Requirement already satisfied: jinja2 in /usr/local/lib/python3.9/dist-packages (from spacy->-r https://raw.githubusercontent.com/mille055/AIPI540_individual_project/main/requirements.txt (line 3)) (3.1.2)\n",
            "Requirement already satisfied: pathy>=0.10.0 in /usr/local/lib/python3.9/dist-packages (from spacy->-r https://raw.githubusercontent.com/mille055/AIPI540_individual_project/main/requirements.txt (line 3)) (0.10.1)\n",
            "Requirement already satisfied: preshed<3.1.0,>=3.0.2 in /usr/local/lib/python3.9/dist-packages (from spacy->-r https://raw.githubusercontent.com/mille055/AIPI540_individual_project/main/requirements.txt (line 3)) (3.0.8)\n",
            "Requirement already satisfied: click in /usr/local/lib/python3.9/dist-packages (from nltk->-r https://raw.githubusercontent.com/mille055/AIPI540_individual_project/main/requirements.txt (line 4)) (8.1.3)\n",
            "Requirement already satisfied: regex>=2021.8.3 in /usr/local/lib/python3.9/dist-packages (from nltk->-r https://raw.githubusercontent.com/mille055/AIPI540_individual_project/main/requirements.txt (line 4)) (2022.10.31)\n",
            "Requirement already satisfied: joblib in /usr/local/lib/python3.9/dist-packages (from nltk->-r https://raw.githubusercontent.com/mille055/AIPI540_individual_project/main/requirements.txt (line 4)) (1.1.1)\n",
            "Collecting transformers<5.0.0,>=4.6.0\n",
            "  Downloading transformers-4.27.4-py3-none-any.whl (6.8 MB)\n",
            "\u001b[2K     \u001b[90m━━━━━━━━━━━━━━━━━━━━━━━━━━━━━━━━━━━━━━━━\u001b[0m \u001b[32m6.8/6.8 MB\u001b[0m \u001b[31m84.2 MB/s\u001b[0m eta \u001b[36m0:00:00\u001b[0m\n",
            "\u001b[?25hRequirement already satisfied: scikit-learn in /usr/local/lib/python3.9/dist-packages (from sentence_transformers->-r https://raw.githubusercontent.com/mille055/AIPI540_individual_project/main/requirements.txt (line 5)) (1.2.2)\n",
            "Requirement already satisfied: scipy in /usr/local/lib/python3.9/dist-packages (from sentence_transformers->-r https://raw.githubusercontent.com/mille055/AIPI540_individual_project/main/requirements.txt (line 5)) (1.10.1)\n",
            "Collecting sentencepiece\n",
            "  Downloading sentencepiece-0.1.97-cp39-cp39-manylinux_2_17_x86_64.manylinux2014_x86_64.whl (1.3 MB)\n",
            "\u001b[2K     \u001b[90m━━━━━━━━━━━━━━━━━━━━━━━━━━━━━━━━━━━━━━━━\u001b[0m \u001b[32m1.3/1.3 MB\u001b[0m \u001b[31m68.2 MB/s\u001b[0m eta \u001b[36m0:00:00\u001b[0m\n",
            "\u001b[?25hCollecting huggingface-hub>=0.4.0\n",
            "  Downloading huggingface_hub-0.13.3-py3-none-any.whl (199 kB)\n",
            "\u001b[2K     \u001b[90m━━━━━━━━━━━━━━━━━━━━━━━━━━━━━━━━━━━━━━\u001b[0m \u001b[32m199.8/199.8 KB\u001b[0m \u001b[31m23.7 MB/s\u001b[0m eta \u001b[36m0:00:00\u001b[0m\n",
            "\u001b[?25hRequirement already satisfied: sympy in /usr/local/lib/python3.9/dist-packages (from torch->-r https://raw.githubusercontent.com/mille055/AIPI540_individual_project/main/requirements.txt (line 6)) (1.11.1)\n",
            "Requirement already satisfied: filelock in /usr/local/lib/python3.9/dist-packages (from torch->-r https://raw.githubusercontent.com/mille055/AIPI540_individual_project/main/requirements.txt (line 6)) (3.10.7)\n",
            "Requirement already satisfied: networkx in /usr/local/lib/python3.9/dist-packages (from torch->-r https://raw.githubusercontent.com/mille055/AIPI540_individual_project/main/requirements.txt (line 6)) (3.0)\n",
            "Requirement already satisfied: triton==2.0.0 in /usr/local/lib/python3.9/dist-packages (from torch->-r https://raw.githubusercontent.com/mille055/AIPI540_individual_project/main/requirements.txt (line 6)) (2.0.0)\n",
            "Requirement already satisfied: typing-extensions in /usr/local/lib/python3.9/dist-packages (from torch->-r https://raw.githubusercontent.com/mille055/AIPI540_individual_project/main/requirements.txt (line 6)) (4.5.0)\n",
            "Requirement already satisfied: lit in /usr/local/lib/python3.9/dist-packages (from triton==2.0.0->torch->-r https://raw.githubusercontent.com/mille055/AIPI540_individual_project/main/requirements.txt (line 6)) (16.0.0)\n",
            "Requirement already satisfied: cmake in /usr/local/lib/python3.9/dist-packages (from triton==2.0.0->torch->-r https://raw.githubusercontent.com/mille055/AIPI540_individual_project/main/requirements.txt (line 6)) (3.25.2)\n",
            "Requirement already satisfied: pillow!=8.3.*,>=5.3.0 in /usr/local/lib/python3.9/dist-packages (from torchvision->-r https://raw.githubusercontent.com/mille055/AIPI540_individual_project/main/requirements.txt (line 7)) (8.4.0)\n",
            "Requirement already satisfied: pyyaml>=5.1 in /usr/local/lib/python3.9/dist-packages (from huggingface-hub>=0.4.0->sentence_transformers->-r https://raw.githubusercontent.com/mille055/AIPI540_individual_project/main/requirements.txt (line 5)) (6.0)\n",
            "Requirement already satisfied: charset-normalizer~=2.0.0 in /usr/local/lib/python3.9/dist-packages (from requests<3.0.0,>=2.13.0->spacy->-r https://raw.githubusercontent.com/mille055/AIPI540_individual_project/main/requirements.txt (line 3)) (2.0.12)\n",
            "Requirement already satisfied: urllib3<1.27,>=1.21.1 in /usr/local/lib/python3.9/dist-packages (from requests<3.0.0,>=2.13.0->spacy->-r https://raw.githubusercontent.com/mille055/AIPI540_individual_project/main/requirements.txt (line 3)) (1.26.15)\n",
            "Requirement already satisfied: idna<4,>=2.5 in /usr/local/lib/python3.9/dist-packages (from requests<3.0.0,>=2.13.0->spacy->-r https://raw.githubusercontent.com/mille055/AIPI540_individual_project/main/requirements.txt (line 3)) (3.4)\n",
            "Requirement already satisfied: certifi>=2017.4.17 in /usr/local/lib/python3.9/dist-packages (from requests<3.0.0,>=2.13.0->spacy->-r https://raw.githubusercontent.com/mille055/AIPI540_individual_project/main/requirements.txt (line 3)) (2022.12.7)\n",
            "Requirement already satisfied: confection<1.0.0,>=0.0.1 in /usr/local/lib/python3.9/dist-packages (from thinc<8.2.0,>=8.1.8->spacy->-r https://raw.githubusercontent.com/mille055/AIPI540_individual_project/main/requirements.txt (line 3)) (0.0.4)\n",
            "Requirement already satisfied: blis<0.8.0,>=0.7.8 in /usr/local/lib/python3.9/dist-packages (from thinc<8.2.0,>=8.1.8->spacy->-r https://raw.githubusercontent.com/mille055/AIPI540_individual_project/main/requirements.txt (line 3)) (0.7.9)\n",
            "Collecting tokenizers!=0.11.3,<0.14,>=0.11.1\n",
            "  Downloading tokenizers-0.13.3-cp39-cp39-manylinux_2_17_x86_64.manylinux2014_x86_64.whl (7.8 MB)\n",
            "\u001b[2K     \u001b[90m━━━━━━━━━━━━━━━━━━━━━━━━━━━━━━━━━━━━━━━━\u001b[0m \u001b[32m7.8/7.8 MB\u001b[0m \u001b[31m75.1 MB/s\u001b[0m eta \u001b[36m0:00:00\u001b[0m\n",
            "\u001b[?25hRequirement already satisfied: MarkupSafe>=2.0 in /usr/local/lib/python3.9/dist-packages (from jinja2->spacy->-r https://raw.githubusercontent.com/mille055/AIPI540_individual_project/main/requirements.txt (line 3)) (2.1.2)\n",
            "Requirement already satisfied: threadpoolctl>=2.0.0 in /usr/local/lib/python3.9/dist-packages (from scikit-learn->sentence_transformers->-r https://raw.githubusercontent.com/mille055/AIPI540_individual_project/main/requirements.txt (line 5)) (3.1.0)\n",
            "Requirement already satisfied: mpmath>=0.19 in /usr/local/lib/python3.9/dist-packages (from sympy->torch->-r https://raw.githubusercontent.com/mille055/AIPI540_individual_project/main/requirements.txt (line 6)) (1.3.0)\n",
            "Building wheels for collected packages: sentence_transformers\n",
            "  Building wheel for sentence_transformers (setup.py) ... \u001b[?25l\u001b[?25hdone\n",
            "  Created wheel for sentence_transformers: filename=sentence_transformers-2.2.2-py3-none-any.whl size=125942 sha256=0bb81d115acf853f49cb9384daedcc74db99f534239c27dd770ea7074e00670a\n",
            "  Stored in directory: /root/.cache/pip/wheels/71/67/06/162a3760c40d74dd40bc855d527008d26341c2b0ecf3e8e11f\n",
            "Successfully built sentence_transformers\n",
            "Installing collected packages: tokenizers, sentencepiece, pydicom, huggingface-hub, transformers, sentence_transformers, monai\n",
            "Successfully installed huggingface-hub-0.13.3 monai-1.1.0 pydicom-2.3.1 sentence_transformers-2.2.2 sentencepiece-0.1.97 tokenizers-0.13.3 transformers-4.27.4\n"
          ]
        }
      ]
    },
    {
      "cell_type": "code",
      "source": [
        "!pip install pydicom==2.1.2"
      ],
      "metadata": {
        "colab": {
          "base_uri": "https://localhost:8080/"
        },
        "id": "gBCmlykVJqXl",
        "outputId": "c1883297-03de-4295-c4d2-8208cb71463f"
      },
      "execution_count": 4,
      "outputs": [
        {
          "output_type": "stream",
          "name": "stdout",
          "text": [
            "Looking in indexes: https://pypi.org/simple, https://us-python.pkg.dev/colab-wheels/public/simple/\n",
            "Collecting pydicom==2.1.2\n",
            "  Downloading pydicom-2.1.2-py3-none-any.whl (1.9 MB)\n",
            "\u001b[2K     \u001b[90m━━━━━━━━━━━━━━━━━━━━━━━━━━━━━━━━━━━━━━━━\u001b[0m \u001b[32m1.9/1.9 MB\u001b[0m \u001b[31m42.5 MB/s\u001b[0m eta \u001b[36m0:00:00\u001b[0m\n",
            "\u001b[?25hInstalling collected packages: pydicom\n",
            "  Attempting uninstall: pydicom\n",
            "    Found existing installation: pydicom 2.3.1\n",
            "    Uninstalling pydicom-2.3.1:\n",
            "      Successfully uninstalled pydicom-2.3.1\n",
            "Successfully installed pydicom-2.1.2\n"
          ]
        }
      ]
    },
    {
      "cell_type": "code",
      "source": [
        "!pip show pydicom"
      ],
      "metadata": {
        "colab": {
          "base_uri": "https://localhost:8080/"
        },
        "id": "EAFbnr3VzhAu",
        "outputId": "ffa0e283-bb0a-49da-a0b4-10e34833992b"
      },
      "execution_count": 5,
      "outputs": [
        {
          "output_type": "stream",
          "name": "stdout",
          "text": [
            "Name: pydicom\n",
            "Version: 2.1.2\n",
            "Summary: Pure python package for DICOM medical file reading and writing\n",
            "Home-page: https://github.com/pydicom/pydicom\n",
            "Author: Darcy Mason and contributors\n",
            "Author-email: darcymason@gmail.com\n",
            "License: MIT\n",
            "Location: /usr/local/lib/python3.9/dist-packages\n",
            "Requires: \n",
            "Required-by: \n"
          ]
        }
      ]
    },
    {
      "cell_type": "code",
      "execution_count": 6,
      "metadata": {
        "id": "n8_XhTT44els"
      },
      "outputs": [],
      "source": [
        "import torch\n",
        "import torch.nn as nn\n",
        "import torch.optim as optim\n",
        "import pandas as pd\n",
        "import numpy as np\n",
        "import torchvision\n",
        "import pydicom\n",
        "import monai\n",
        "import pickle\n",
        "\n",
        "from torchvision import datasets, models, transforms\n"
      ]
    },
    {
      "cell_type": "code",
      "source": [
        "#local imports\n",
        "from AIPI540_individual_project.scripts.config import *\n",
        "# from AIPI540_individual_project.scripts.train_pixel_model import train_model\n",
        "# from AIPI540_individual_project.scripts.train_text_model import load_text_data, train_text_model, list_incorrect_text_predictions\n",
        "# from AIPI540_individual_project.scripts.utils import *"
      ],
      "metadata": {
        "id": "TVheOFaJ49mk"
      },
      "execution_count": 7,
      "outputs": []
    },
    {
      "cell_type": "markdown",
      "source": [
        "# Load Datasets\n"
      ],
      "metadata": {
        "id": "CK_GM1K58kfR"
      }
    },
    {
      "cell_type": "code",
      "source": [
        "train_datafile = '/content/AIPI540_individual_project/data/X_train02282023.pkl'\n",
        "test_datafile = '/content/AIPI540_individual_project/data/X_test02282023.pkl'"
      ],
      "metadata": {
        "id": "Bjga6g_tDLL7"
      },
      "execution_count": 8,
      "outputs": []
    },
    {
      "cell_type": "code",
      "source": [
        "def load_dataset(train_file, test_file):\n",
        "  with open(train_file, 'rb') as f:\n",
        "    train_df = pickle.load(f)\n",
        "  with open(test_file, 'rb') as g:\n",
        "    test_df = pickle.load(g)\n",
        "\n",
        "  return train_df, test_df"
      ],
      "metadata": {
        "id": "9p7ai9135qhM"
      },
      "execution_count": 9,
      "outputs": []
    },
    {
      "cell_type": "code",
      "source": [
        "train, test = load_dataset(train_datafile, test_datafile)"
      ],
      "metadata": {
        "id": "ksXu4LTm8isQ"
      },
      "execution_count": 10,
      "outputs": []
    },
    {
      "cell_type": "code",
      "source": [
        "train.columns.tolist()"
      ],
      "metadata": {
        "colab": {
          "base_uri": "https://localhost:8080/"
        },
        "id": "8qWld3BBDE1W",
        "outputId": "db2c8b52-eda4-4ec7-eebc-fabce3ae9828"
      },
      "execution_count": 28,
      "outputs": [
        {
          "output_type": "execute_result",
          "data": {
            "text/plain": [
              "['fname_x',\n",
              " 'StudyInstanceUID',\n",
              " 'SeriesInstanceUID',\n",
              " 'SeriesNumber',\n",
              " 'SeriesDescription_x',\n",
              " 'AcquisitionNumber',\n",
              " 'InstanceNumber',\n",
              " 'ImageOrientationPatient',\n",
              " 'MRAcquisitionType',\n",
              " 'AngioFlag',\n",
              " 'SliceThickness',\n",
              " 'RepetitionTime',\n",
              " 'EchoTime',\n",
              " 'EchoTrainLength',\n",
              " 'PixelSpacing',\n",
              " 'ContrastBolusAgent',\n",
              " 'InversionTime',\n",
              " 'seq_E',\n",
              " 'seq_EP',\n",
              " 'seq_G',\n",
              " 'seq_IR',\n",
              " 'seq_P',\n",
              " 'seq_R',\n",
              " 'seq_S',\n",
              " 'seq_SE',\n",
              " 'var_E',\n",
              " 'var_K',\n",
              " 'var_N',\n",
              " 'var_O',\n",
              " 'var_OSP',\n",
              " 'var_P',\n",
              " 'var_S',\n",
              " 'var_SK',\n",
              " 'var_SP',\n",
              " 'var_SS',\n",
              " 'opt_2',\n",
              " 'opt_A',\n",
              " 'opt_ACC_GEMS',\n",
              " 'opt_D',\n",
              " 'opt_EDR_GEMS',\n",
              " 'opt_EPI_GEMS',\n",
              " 'opt_F',\n",
              " 'opt_FAST_GEMS',\n",
              " 'opt_FC',\n",
              " 'opt_FC_SLICE_AX_GEMS',\n",
              " 'opt_FILTERED_GEMS',\n",
              " 'opt_FS',\n",
              " 'opt_FT_GEMS',\n",
              " 'opt_I',\n",
              " 'opt_IDEAL_GEMS',\n",
              " 'opt_MP_GEMS',\n",
              " 'opt_MRCP_GEMS',\n",
              " 'opt_NPW',\n",
              " 'opt_P',\n",
              " 'opt_PFF',\n",
              " 'opt_PFP',\n",
              " 'opt_RTR_GEMS',\n",
              " 'opt_S',\n",
              " 'opt_SAT2',\n",
              " 'opt_SAT_GEMS',\n",
              " 'opt_SEQ_GEMS',\n",
              " 'opt_SFS',\n",
              " 'opt_SP',\n",
              " 'opt_SS_GEMS',\n",
              " 'opt_T',\n",
              " 'opt_TRF_GEMS',\n",
              " 'opt_VASCTOF_GEMS',\n",
              " 'opt_W',\n",
              " 'opt_X',\n",
              " 'type_',\n",
              " 'type_ADC',\n",
              " 'type_COLLAPSE',\n",
              " 'type_CSA MPR',\n",
              " 'type_CSAPARALLEL',\n",
              " 'type_DERIVED',\n",
              " 'type_DIFFUSION',\n",
              " 'type_DIS2D',\n",
              " 'type_DIXON',\n",
              " 'type_FAT',\n",
              " 'type_FIL',\n",
              " 'type_FM3_1',\n",
              " 'type_IN_PHASE',\n",
              " 'type_M',\n",
              " 'type_MIP_COR',\n",
              " 'type_MPR',\n",
              " 'type_ND',\n",
              " 'type_NONE',\n",
              " 'type_NORM',\n",
              " 'type_ORIGINAL',\n",
              " 'type_OTHER',\n",
              " 'type_OUT_PHASE',\n",
              " 'type_PRIMARY',\n",
              " 'type_PROC',\n",
              " 'type_PROJECTION IMAGE',\n",
              " 'type_SECONDARY',\n",
              " 'type_SH',\n",
              " 'type_SINC',\n",
              " 'type_SUB',\n",
              " 'type_TRACEW',\n",
              " 'type_WATER',\n",
              " 'DiffusionBValue',\n",
              " 'seq_GR',\n",
              " 'seq_I',\n",
              " 'seq_M',\n",
              " 'var_MP',\n",
              " 'var_MTC',\n",
              " 'var_TOF',\n",
              " 'opt_1',\n",
              " 'opt_B',\n",
              " 'opt_C',\n",
              " 'opt_E',\n",
              " 'opt_FC_FREQ_AX_GEMS',\n",
              " 'opt_FR_GEMS',\n",
              " 'opt_FSA_GEMS',\n",
              " 'opt_FSI_GEMS',\n",
              " 'opt_FSL_GEMS',\n",
              " 'opt_FSP_GEMS',\n",
              " 'opt_FSS_GEMS',\n",
              " 'opt_G',\n",
              " 'opt_IFLOW_GEMS',\n",
              " 'opt_IR',\n",
              " 'opt_IR_GEMS',\n",
              " 'opt_L',\n",
              " 'opt_M',\n",
              " 'opt_MT',\n",
              " 'opt_MT_GEMS',\n",
              " 'opt_PROP_GEMS',\n",
              " 'opt_R',\n",
              " 'opt_RAMP_IS_GEMS',\n",
              " 'opt_SAT1',\n",
              " 'opt_T2FLAIR_GEMS',\n",
              " 'opt_VB_GEMS',\n",
              " 'opt__',\n",
              " 'Parent_folder',\n",
              " 'patientID',\n",
              " 'exam',\n",
              " 'series',\n",
              " 'filename',\n",
              " 'fname_y',\n",
              " 'SeriesDescription_y',\n",
              " 'plane',\n",
              " 'seq_label',\n",
              " 'contrast',\n",
              " 'parent folder',\n",
              " 'label_code',\n",
              " 'GT label',\n",
              " 'GT plane',\n",
              " 'GT contrast',\n",
              " 'original_label_code',\n",
              " 'con_label_code',\n",
              " 'MB_label_code',\n",
              " 'prob_avg',\n",
              " 'pixel_label_code',\n",
              " 'textual_label_code',\n",
              " 'ap_label_code',\n",
              " 'pixel_ap_label_code']"
            ]
          },
          "metadata": {},
          "execution_count": 28
        }
      ]
    },
    {
      "cell_type": "code",
      "source": [
        "label_df = pd.read_csv('/content/AIPI540_individual_project/data/cmm_labels.txt')"
      ],
      "metadata": {
        "id": "RxkjKCdQDgyr"
      },
      "execution_count": 29,
      "outputs": []
    },
    {
      "cell_type": "code",
      "source": [
        "label_df"
      ],
      "metadata": {
        "colab": {
          "base_uri": "https://localhost:8080/",
          "height": 419
        },
        "id": "rLCBH1qhJgyA",
        "outputId": "4e57445b-d09c-42c6-d1b1-6822bfca7dff"
      },
      "execution_count": 30,
      "outputs": [
        {
          "output_type": "execute_result",
          "data": {
            "text/plain": [
              "      085  exam1   4  14\n",
              "0      85  exam1   3  19\n",
              "1      85  exam1  10   9\n",
              "2      85  exam1  22  16\n",
              "3      85  exam1  21   6\n",
              "4      85  exam1   2   7\n",
              "...   ...    ...  ..  ..\n",
              "2209   83  exam1  20  16\n",
              "2210   83  exam1   8   9\n",
              "2211   83  exam1  18  16\n",
              "2212   83  exam1  17   0\n",
              "2213   83  exam1  13   2\n",
              "\n",
              "[2214 rows x 4 columns]"
            ],
            "text/html": [
              "\n",
              "  <div id=\"df-934403b6-5808-44ea-bf38-1470632cb7bd\">\n",
              "    <div class=\"colab-df-container\">\n",
              "      <div>\n",
              "<style scoped>\n",
              "    .dataframe tbody tr th:only-of-type {\n",
              "        vertical-align: middle;\n",
              "    }\n",
              "\n",
              "    .dataframe tbody tr th {\n",
              "        vertical-align: top;\n",
              "    }\n",
              "\n",
              "    .dataframe thead th {\n",
              "        text-align: right;\n",
              "    }\n",
              "</style>\n",
              "<table border=\"1\" class=\"dataframe\">\n",
              "  <thead>\n",
              "    <tr style=\"text-align: right;\">\n",
              "      <th></th>\n",
              "      <th>085</th>\n",
              "      <th>exam1</th>\n",
              "      <th>4</th>\n",
              "      <th>14</th>\n",
              "    </tr>\n",
              "  </thead>\n",
              "  <tbody>\n",
              "    <tr>\n",
              "      <th>0</th>\n",
              "      <td>85</td>\n",
              "      <td>exam1</td>\n",
              "      <td>3</td>\n",
              "      <td>19</td>\n",
              "    </tr>\n",
              "    <tr>\n",
              "      <th>1</th>\n",
              "      <td>85</td>\n",
              "      <td>exam1</td>\n",
              "      <td>10</td>\n",
              "      <td>9</td>\n",
              "    </tr>\n",
              "    <tr>\n",
              "      <th>2</th>\n",
              "      <td>85</td>\n",
              "      <td>exam1</td>\n",
              "      <td>22</td>\n",
              "      <td>16</td>\n",
              "    </tr>\n",
              "    <tr>\n",
              "      <th>3</th>\n",
              "      <td>85</td>\n",
              "      <td>exam1</td>\n",
              "      <td>21</td>\n",
              "      <td>6</td>\n",
              "    </tr>\n",
              "    <tr>\n",
              "      <th>4</th>\n",
              "      <td>85</td>\n",
              "      <td>exam1</td>\n",
              "      <td>2</td>\n",
              "      <td>7</td>\n",
              "    </tr>\n",
              "    <tr>\n",
              "      <th>...</th>\n",
              "      <td>...</td>\n",
              "      <td>...</td>\n",
              "      <td>...</td>\n",
              "      <td>...</td>\n",
              "    </tr>\n",
              "    <tr>\n",
              "      <th>2209</th>\n",
              "      <td>83</td>\n",
              "      <td>exam1</td>\n",
              "      <td>20</td>\n",
              "      <td>16</td>\n",
              "    </tr>\n",
              "    <tr>\n",
              "      <th>2210</th>\n",
              "      <td>83</td>\n",
              "      <td>exam1</td>\n",
              "      <td>8</td>\n",
              "      <td>9</td>\n",
              "    </tr>\n",
              "    <tr>\n",
              "      <th>2211</th>\n",
              "      <td>83</td>\n",
              "      <td>exam1</td>\n",
              "      <td>18</td>\n",
              "      <td>16</td>\n",
              "    </tr>\n",
              "    <tr>\n",
              "      <th>2212</th>\n",
              "      <td>83</td>\n",
              "      <td>exam1</td>\n",
              "      <td>17</td>\n",
              "      <td>0</td>\n",
              "    </tr>\n",
              "    <tr>\n",
              "      <th>2213</th>\n",
              "      <td>83</td>\n",
              "      <td>exam1</td>\n",
              "      <td>13</td>\n",
              "      <td>2</td>\n",
              "    </tr>\n",
              "  </tbody>\n",
              "</table>\n",
              "<p>2214 rows × 4 columns</p>\n",
              "</div>\n",
              "      <button class=\"colab-df-convert\" onclick=\"convertToInteractive('df-934403b6-5808-44ea-bf38-1470632cb7bd')\"\n",
              "              title=\"Convert this dataframe to an interactive table.\"\n",
              "              style=\"display:none;\">\n",
              "        \n",
              "  <svg xmlns=\"http://www.w3.org/2000/svg\" height=\"24px\"viewBox=\"0 0 24 24\"\n",
              "       width=\"24px\">\n",
              "    <path d=\"M0 0h24v24H0V0z\" fill=\"none\"/>\n",
              "    <path d=\"M18.56 5.44l.94 2.06.94-2.06 2.06-.94-2.06-.94-.94-2.06-.94 2.06-2.06.94zm-11 1L8.5 8.5l.94-2.06 2.06-.94-2.06-.94L8.5 2.5l-.94 2.06-2.06.94zm10 10l.94 2.06.94-2.06 2.06-.94-2.06-.94-.94-2.06-.94 2.06-2.06.94z\"/><path d=\"M17.41 7.96l-1.37-1.37c-.4-.4-.92-.59-1.43-.59-.52 0-1.04.2-1.43.59L10.3 9.45l-7.72 7.72c-.78.78-.78 2.05 0 2.83L4 21.41c.39.39.9.59 1.41.59.51 0 1.02-.2 1.41-.59l7.78-7.78 2.81-2.81c.8-.78.8-2.07 0-2.86zM5.41 20L4 18.59l7.72-7.72 1.47 1.35L5.41 20z\"/>\n",
              "  </svg>\n",
              "      </button>\n",
              "      \n",
              "  <style>\n",
              "    .colab-df-container {\n",
              "      display:flex;\n",
              "      flex-wrap:wrap;\n",
              "      gap: 12px;\n",
              "    }\n",
              "\n",
              "    .colab-df-convert {\n",
              "      background-color: #E8F0FE;\n",
              "      border: none;\n",
              "      border-radius: 50%;\n",
              "      cursor: pointer;\n",
              "      display: none;\n",
              "      fill: #1967D2;\n",
              "      height: 32px;\n",
              "      padding: 0 0 0 0;\n",
              "      width: 32px;\n",
              "    }\n",
              "\n",
              "    .colab-df-convert:hover {\n",
              "      background-color: #E2EBFA;\n",
              "      box-shadow: 0px 1px 2px rgba(60, 64, 67, 0.3), 0px 1px 3px 1px rgba(60, 64, 67, 0.15);\n",
              "      fill: #174EA6;\n",
              "    }\n",
              "\n",
              "    [theme=dark] .colab-df-convert {\n",
              "      background-color: #3B4455;\n",
              "      fill: #D2E3FC;\n",
              "    }\n",
              "\n",
              "    [theme=dark] .colab-df-convert:hover {\n",
              "      background-color: #434B5C;\n",
              "      box-shadow: 0px 1px 3px 1px rgba(0, 0, 0, 0.15);\n",
              "      filter: drop-shadow(0px 1px 2px rgba(0, 0, 0, 0.3));\n",
              "      fill: #FFFFFF;\n",
              "    }\n",
              "  </style>\n",
              "\n",
              "      <script>\n",
              "        const buttonEl =\n",
              "          document.querySelector('#df-934403b6-5808-44ea-bf38-1470632cb7bd button.colab-df-convert');\n",
              "        buttonEl.style.display =\n",
              "          google.colab.kernel.accessAllowed ? 'block' : 'none';\n",
              "\n",
              "        async function convertToInteractive(key) {\n",
              "          const element = document.querySelector('#df-934403b6-5808-44ea-bf38-1470632cb7bd');\n",
              "          const dataTable =\n",
              "            await google.colab.kernel.invokeFunction('convertToInteractive',\n",
              "                                                     [key], {});\n",
              "          if (!dataTable) return;\n",
              "\n",
              "          const docLinkHtml = 'Like what you see? Visit the ' +\n",
              "            '<a target=\"_blank\" href=https://colab.research.google.com/notebooks/data_table.ipynb>data table notebook</a>'\n",
              "            + ' to learn more about interactive tables.';\n",
              "          element.innerHTML = '';\n",
              "          dataTable['output_type'] = 'display_data';\n",
              "          await google.colab.output.renderOutput(dataTable, element);\n",
              "          const docLink = document.createElement('div');\n",
              "          docLink.innerHTML = docLinkHtml;\n",
              "          element.appendChild(docLink);\n",
              "        }\n",
              "      </script>\n",
              "    </div>\n",
              "  </div>\n",
              "  "
            ]
          },
          "metadata": {},
          "execution_count": 30
        }
      ]
    },
    {
      "cell_type": "code",
      "source": [],
      "metadata": {
        "id": "hyCdF9c-3mL8"
      },
      "execution_count": null,
      "outputs": []
    }
  ]
}